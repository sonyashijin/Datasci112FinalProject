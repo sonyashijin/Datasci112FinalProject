{
  "nbformat": 4,
  "nbformat_minor": 0,
  "metadata": {
    "colab": {
      "provenance": []
    },
    "kernelspec": {
      "name": "python3",
      "display_name": "Python 3"
    },
    "language_info": {
      "name": "python"
    }
  },
  "cells": [
    {
      "cell_type": "markdown",
      "source": [
        "Upload diseases.csv"
      ],
      "metadata": {
        "id": "5o6zIAlyJkTj"
      }
    },
    {
      "cell_type": "code",
      "source": [
        "import pandas as pd\n",
        "\n",
        "df = pd.read_csv('diseases_2.csv')"
      ],
      "metadata": {
        "id": "US5elLN8JopZ"
      },
      "execution_count": null,
      "outputs": []
    },
    {
      "cell_type": "code",
      "source": [
        "if \"Unnamed: 0\" in df.columns:\n",
        "  df = df.rename(columns={\"Unnamed: 0\": \"name\"})\n",
        "df"
      ],
      "metadata": {
        "colab": {
          "base_uri": "https://localhost:8080/",
          "height": 820
        },
        "id": "nIlFVMOVKuiQ",
        "outputId": "be7402b6-eddf-4a3d-a75e-359658293d8c"
      },
      "execution_count": null,
      "outputs": [
        {
          "output_type": "execute_result",
          "data": {
            "text/plain": [
              "                                                name  \\\n",
              "0                                    Tangier disease   \n",
              "1                              Ataxia-telangiectasia   \n",
              "2                                    Alopecia areata   \n",
              "3                                  Triple A syndrome   \n",
              "4     Aromatic l-amino acid decarboxylase deficiency   \n",
              "..                                               ...   \n",
              "321                       Spastic paraplegia type 11   \n",
              "322                       Spastic paraplegia type 49   \n",
              "323  JAK3-deficient severe combined immunodeficiency   \n",
              "324                  Pulmonary arterial hypertension   \n",
              "325                    Spinocerebellar ataxia type 3   \n",
              "\n",
              "                                           description  \\\n",
              "0    Tangier disease is an inherited disorder chara...   \n",
              "1    Ataxia-telangiectasia is a rare inherited diso...   \n",
              "2    Alopecia areata is a common disorder that caus...   \n",
              "3    Triple A syndrome is an inherited condition ch...   \n",
              "4    Aromatic l-amino acid decarboxylase (AADC) def...   \n",
              "..                                                 ...   \n",
              "321  Spastic paraplegia type 11 is part of a group ...   \n",
              "322  Spastic paraplegia type 49 is part of a group ...   \n",
              "323  JAK3-deficient severe combined immunodeficienc...   \n",
              "324  Pulmonary arterial hypertension is a progressi...   \n",
              "325  Spinocerebellar ataxia type 3 (SCA3) is a cond...   \n",
              "\n",
              "                                                causes  \\\n",
              "0    Mutations in theABCA1gene cause Tangier diseas...   \n",
              "1    Variants (also called mutations) in theATMgene...   \n",
              "2    The causes of alopecia areata are complex and ...   \n",
              "3    Mutations in theAAASgene cause triple A syndro...   \n",
              "4    Mutations in theDDCgene cause AADC deficiency....   \n",
              "..                                                 ...   \n",
              "321  Mutations in theSPG11gene cause spastic parapl...   \n",
              "322  Spastic paraplegia type 49 is caused by mutati...   \n",
              "323  JAK3-deficient SCID is caused by mutations in ...   \n",
              "324  Mutations in theBMPR2gene are the most common ...   \n",
              "325  Mutations in theATXN3gene cause SCA3. TheATXN3...   \n",
              "\n",
              "                                             frequency  \\\n",
              "0    Tangier disease is a rare disorder with approx...   \n",
              "1    Ataxia-telangiectasia occurs in 1 in 40,000 to...   \n",
              "2    Alopecia areata affects 1 in every 500 to 1,00...   \n",
              "3    Triple A syndrome is a rare condition, althoug...   \n",
              "4    AADC deficiency is a rare disorder. Only about...   \n",
              "..                                                 ...   \n",
              "321  Over 100 cases of spastic paraplegia type 11 h...   \n",
              "322  Spastic paraplegia type 49 is a rare disorder....   \n",
              "323  JAK3-deficient SCID accounts for an estimated ...   \n",
              "324  In the United States, about 1,000 new cases of...   \n",
              "325  The prevalence of SCA3 is unknown. This condit...   \n",
              "\n",
              "                                           inheritance  \n",
              "0    This condition is inherited in anautosomal rec...  \n",
              "1    Ataxia-telangiectasia is inherited in anautoso...  \n",
              "2    The inheritance pattern of alopecia areata is ...  \n",
              "3    This condition is inherited in anautosomal rec...  \n",
              "4    This condition is inherited in anautosomal rec...  \n",
              "..                                                 ...  \n",
              "321  This condition is inherited in anautosomal rec...  \n",
              "322  This condition is inherited in anautosomal rec...  \n",
              "323  This condition is inherited in anautosomal rec...  \n",
              "324  Pulmonary arterial hypertension is usually spo...  \n",
              "325  This condition is inherited in anautosomal dom...  \n",
              "\n",
              "[326 rows x 5 columns]"
            ],
            "text/html": [
              "\n",
              "  <div id=\"df-87610cd1-50da-4c51-85cc-d77ff824a921\">\n",
              "    <div class=\"colab-df-container\">\n",
              "      <div>\n",
              "<style scoped>\n",
              "    .dataframe tbody tr th:only-of-type {\n",
              "        vertical-align: middle;\n",
              "    }\n",
              "\n",
              "    .dataframe tbody tr th {\n",
              "        vertical-align: top;\n",
              "    }\n",
              "\n",
              "    .dataframe thead th {\n",
              "        text-align: right;\n",
              "    }\n",
              "</style>\n",
              "<table border=\"1\" class=\"dataframe\">\n",
              "  <thead>\n",
              "    <tr style=\"text-align: right;\">\n",
              "      <th></th>\n",
              "      <th>name</th>\n",
              "      <th>description</th>\n",
              "      <th>causes</th>\n",
              "      <th>frequency</th>\n",
              "      <th>inheritance</th>\n",
              "    </tr>\n",
              "  </thead>\n",
              "  <tbody>\n",
              "    <tr>\n",
              "      <th>0</th>\n",
              "      <td>Tangier disease</td>\n",
              "      <td>Tangier disease is an inherited disorder chara...</td>\n",
              "      <td>Mutations in theABCA1gene cause Tangier diseas...</td>\n",
              "      <td>Tangier disease is a rare disorder with approx...</td>\n",
              "      <td>This condition is inherited in anautosomal rec...</td>\n",
              "    </tr>\n",
              "    <tr>\n",
              "      <th>1</th>\n",
              "      <td>Ataxia-telangiectasia</td>\n",
              "      <td>Ataxia-telangiectasia is a rare inherited diso...</td>\n",
              "      <td>Variants (also called mutations) in theATMgene...</td>\n",
              "      <td>Ataxia-telangiectasia occurs in 1 in 40,000 to...</td>\n",
              "      <td>Ataxia-telangiectasia is inherited in anautoso...</td>\n",
              "    </tr>\n",
              "    <tr>\n",
              "      <th>2</th>\n",
              "      <td>Alopecia areata</td>\n",
              "      <td>Alopecia areata is a common disorder that caus...</td>\n",
              "      <td>The causes of alopecia areata are complex and ...</td>\n",
              "      <td>Alopecia areata affects 1 in every 500 to 1,00...</td>\n",
              "      <td>The inheritance pattern of alopecia areata is ...</td>\n",
              "    </tr>\n",
              "    <tr>\n",
              "      <th>3</th>\n",
              "      <td>Triple A syndrome</td>\n",
              "      <td>Triple A syndrome is an inherited condition ch...</td>\n",
              "      <td>Mutations in theAAASgene cause triple A syndro...</td>\n",
              "      <td>Triple A syndrome is a rare condition, althoug...</td>\n",
              "      <td>This condition is inherited in anautosomal rec...</td>\n",
              "    </tr>\n",
              "    <tr>\n",
              "      <th>4</th>\n",
              "      <td>Aromatic l-amino acid decarboxylase deficiency</td>\n",
              "      <td>Aromatic l-amino acid decarboxylase (AADC) def...</td>\n",
              "      <td>Mutations in theDDCgene cause AADC deficiency....</td>\n",
              "      <td>AADC deficiency is a rare disorder. Only about...</td>\n",
              "      <td>This condition is inherited in anautosomal rec...</td>\n",
              "    </tr>\n",
              "    <tr>\n",
              "      <th>...</th>\n",
              "      <td>...</td>\n",
              "      <td>...</td>\n",
              "      <td>...</td>\n",
              "      <td>...</td>\n",
              "      <td>...</td>\n",
              "    </tr>\n",
              "    <tr>\n",
              "      <th>321</th>\n",
              "      <td>Spastic paraplegia type 11</td>\n",
              "      <td>Spastic paraplegia type 11 is part of a group ...</td>\n",
              "      <td>Mutations in theSPG11gene cause spastic parapl...</td>\n",
              "      <td>Over 100 cases of spastic paraplegia type 11 h...</td>\n",
              "      <td>This condition is inherited in anautosomal rec...</td>\n",
              "    </tr>\n",
              "    <tr>\n",
              "      <th>322</th>\n",
              "      <td>Spastic paraplegia type 49</td>\n",
              "      <td>Spastic paraplegia type 49 is part of a group ...</td>\n",
              "      <td>Spastic paraplegia type 49 is caused by mutati...</td>\n",
              "      <td>Spastic paraplegia type 49 is a rare disorder....</td>\n",
              "      <td>This condition is inherited in anautosomal rec...</td>\n",
              "    </tr>\n",
              "    <tr>\n",
              "      <th>323</th>\n",
              "      <td>JAK3-deficient severe combined immunodeficiency</td>\n",
              "      <td>JAK3-deficient severe combined immunodeficienc...</td>\n",
              "      <td>JAK3-deficient SCID is caused by mutations in ...</td>\n",
              "      <td>JAK3-deficient SCID accounts for an estimated ...</td>\n",
              "      <td>This condition is inherited in anautosomal rec...</td>\n",
              "    </tr>\n",
              "    <tr>\n",
              "      <th>324</th>\n",
              "      <td>Pulmonary arterial hypertension</td>\n",
              "      <td>Pulmonary arterial hypertension is a progressi...</td>\n",
              "      <td>Mutations in theBMPR2gene are the most common ...</td>\n",
              "      <td>In the United States, about 1,000 new cases of...</td>\n",
              "      <td>Pulmonary arterial hypertension is usually spo...</td>\n",
              "    </tr>\n",
              "    <tr>\n",
              "      <th>325</th>\n",
              "      <td>Spinocerebellar ataxia type 3</td>\n",
              "      <td>Spinocerebellar ataxia type 3 (SCA3) is a cond...</td>\n",
              "      <td>Mutations in theATXN3gene cause SCA3. TheATXN3...</td>\n",
              "      <td>The prevalence of SCA3 is unknown. This condit...</td>\n",
              "      <td>This condition is inherited in anautosomal dom...</td>\n",
              "    </tr>\n",
              "  </tbody>\n",
              "</table>\n",
              "<p>326 rows × 5 columns</p>\n",
              "</div>\n",
              "      <button class=\"colab-df-convert\" onclick=\"convertToInteractive('df-87610cd1-50da-4c51-85cc-d77ff824a921')\"\n",
              "              title=\"Convert this dataframe to an interactive table.\"\n",
              "              style=\"display:none;\">\n",
              "        \n",
              "  <svg xmlns=\"http://www.w3.org/2000/svg\" height=\"24px\"viewBox=\"0 0 24 24\"\n",
              "       width=\"24px\">\n",
              "    <path d=\"M0 0h24v24H0V0z\" fill=\"none\"/>\n",
              "    <path d=\"M18.56 5.44l.94 2.06.94-2.06 2.06-.94-2.06-.94-.94-2.06-.94 2.06-2.06.94zm-11 1L8.5 8.5l.94-2.06 2.06-.94-2.06-.94L8.5 2.5l-.94 2.06-2.06.94zm10 10l.94 2.06.94-2.06 2.06-.94-2.06-.94-.94-2.06-.94 2.06-2.06.94z\"/><path d=\"M17.41 7.96l-1.37-1.37c-.4-.4-.92-.59-1.43-.59-.52 0-1.04.2-1.43.59L10.3 9.45l-7.72 7.72c-.78.78-.78 2.05 0 2.83L4 21.41c.39.39.9.59 1.41.59.51 0 1.02-.2 1.41-.59l7.78-7.78 2.81-2.81c.8-.78.8-2.07 0-2.86zM5.41 20L4 18.59l7.72-7.72 1.47 1.35L5.41 20z\"/>\n",
              "  </svg>\n",
              "      </button>\n",
              "      \n",
              "  <style>\n",
              "    .colab-df-container {\n",
              "      display:flex;\n",
              "      flex-wrap:wrap;\n",
              "      gap: 12px;\n",
              "    }\n",
              "\n",
              "    .colab-df-convert {\n",
              "      background-color: #E8F0FE;\n",
              "      border: none;\n",
              "      border-radius: 50%;\n",
              "      cursor: pointer;\n",
              "      display: none;\n",
              "      fill: #1967D2;\n",
              "      height: 32px;\n",
              "      padding: 0 0 0 0;\n",
              "      width: 32px;\n",
              "    }\n",
              "\n",
              "    .colab-df-convert:hover {\n",
              "      background-color: #E2EBFA;\n",
              "      box-shadow: 0px 1px 2px rgba(60, 64, 67, 0.3), 0px 1px 3px 1px rgba(60, 64, 67, 0.15);\n",
              "      fill: #174EA6;\n",
              "    }\n",
              "\n",
              "    [theme=dark] .colab-df-convert {\n",
              "      background-color: #3B4455;\n",
              "      fill: #D2E3FC;\n",
              "    }\n",
              "\n",
              "    [theme=dark] .colab-df-convert:hover {\n",
              "      background-color: #434B5C;\n",
              "      box-shadow: 0px 1px 3px 1px rgba(0, 0, 0, 0.15);\n",
              "      filter: drop-shadow(0px 1px 2px rgba(0, 0, 0, 0.3));\n",
              "      fill: #FFFFFF;\n",
              "    }\n",
              "  </style>\n",
              "\n",
              "      <script>\n",
              "        const buttonEl =\n",
              "          document.querySelector('#df-87610cd1-50da-4c51-85cc-d77ff824a921 button.colab-df-convert');\n",
              "        buttonEl.style.display =\n",
              "          google.colab.kernel.accessAllowed ? 'block' : 'none';\n",
              "\n",
              "        async function convertToInteractive(key) {\n",
              "          const element = document.querySelector('#df-87610cd1-50da-4c51-85cc-d77ff824a921');\n",
              "          const dataTable =\n",
              "            await google.colab.kernel.invokeFunction('convertToInteractive',\n",
              "                                                     [key], {});\n",
              "          if (!dataTable) return;\n",
              "\n",
              "          const docLinkHtml = 'Like what you see? Visit the ' +\n",
              "            '<a target=\"_blank\" href=https://colab.research.google.com/notebooks/data_table.ipynb>data table notebook</a>'\n",
              "            + ' to learn more about interactive tables.';\n",
              "          element.innerHTML = '';\n",
              "          dataTable['output_type'] = 'display_data';\n",
              "          await google.colab.output.renderOutput(dataTable, element);\n",
              "          const docLink = document.createElement('div');\n",
              "          docLink.innerHTML = docLinkHtml;\n",
              "          element.appendChild(docLink);\n",
              "        }\n",
              "      </script>\n",
              "    </div>\n",
              "  </div>\n",
              "  "
            ]
          },
          "metadata": {},
          "execution_count": 2
        }
      ]
    },
    {
      "cell_type": "code",
      "source": [
        "df.name.iloc[0]"
      ],
      "metadata": {
        "colab": {
          "base_uri": "https://localhost:8080/",
          "height": 37
        },
        "id": "BQ8nRZYILnjc",
        "outputId": "3d115583-99dd-4608-9cf1-f57acbda58a8"
      },
      "execution_count": null,
      "outputs": [
        {
          "output_type": "execute_result",
          "data": {
            "text/plain": [
              "'Tangier disease'"
            ],
            "application/vnd.google.colaboratory.intrinsic+json": {
              "type": "string"
            }
          },
          "metadata": {},
          "execution_count": 3
        }
      ]
    },
    {
      "cell_type": "code",
      "source": [
        "import re\n",
        "\n",
        "def mask(text, string, replacement):\n",
        "  if len(string) > 30:\n",
        "    start = string[:10]\n",
        "    end = string[-6:]\n",
        "    middle = '.{5,' + str(len(string)) +'}'\n",
        "    pattern = re.compile(start+middle+end,re.IGNORECASE)\n",
        "  else:\n",
        "     pattern = re.compile(string, re.IGNORECASE)\n",
        " \n",
        "  new_text = pattern.sub(replacement, text)\n",
        "  return new_text"
      ],
      "metadata": {
        "id": "-Q9cvIICKY-4"
      },
      "execution_count": null,
      "outputs": []
    },
    {
      "cell_type": "code",
      "source": [
        "def all_matches(text1,text2, min_len = 5):\n",
        "  tokens1 = text1.split()\n",
        "  tokens2 = text2.split()\n",
        "\n",
        "  all_matches = []\n",
        "\n",
        "  for tok in tokens2:\n",
        "    if len(tok) <= min_len: continue\n",
        "    test_tok = re.sub(r'\\W+', '', tok)\n",
        "    pattern = re.compile(test_tok, re.IGNORECASE)\n",
        "    \n",
        "    for other_tok in tokens1:\n",
        "      if len(other_tok) <= min_len: continue\n",
        "      test_other_tok = re.sub(r'\\W+', '', other_tok)\n",
        "      if re.match(pattern, test_other_tok):\n",
        "        all_matches.append(tok)\n",
        "\n",
        "  return all_matches\n",
        "\n",
        "    "
      ],
      "metadata": {
        "id": "cRvZeO02F5eY"
      },
      "execution_count": null,
      "outputs": []
    },
    {
      "cell_type": "code",
      "source": [
        "def mask_df(df):\n",
        "  causes_masked = []\n",
        "  for i in range(df.shape[0]):\n",
        "    causes_masked.append(mask(df.iloc[i].causes, df.name.iloc[i], 'DISEASE NAME'))\n",
        "\n",
        "  df['causes_masked'] = pd.Series(causes_masked)\n",
        "  return df\n"
      ],
      "metadata": {
        "id": "vH4xno4XKGV8"
      },
      "execution_count": null,
      "outputs": []
    },
    {
      "cell_type": "code",
      "source": [
        "df = mask_df(df)"
      ],
      "metadata": {
        "id": "7xHYyi2MLHDQ"
      },
      "execution_count": null,
      "outputs": []
    },
    {
      "cell_type": "code",
      "source": [
        "from collections import defaultdict\n",
        "\n",
        "def aggro_mask_df(df, threshold = 10):\n",
        "  word_counts = defaultdict(int)\n",
        "  match_lists = []\n",
        "  for i in range(df.shape[0]):\n",
        "    matches = all_matches(df.iloc[i].description,df.iloc[i].causes_masked)\n",
        "    for m in set(matches):\n",
        "      word_counts[m] += 1\n",
        "      match_lists.append(matches)\n",
        "  \n",
        "  for i in range(df.shape[0]):\n",
        "    matches = match_lists[i]\n",
        "    cur_causes = df.iloc[i].causes_masked\n",
        "    for m in set(matches):\n",
        "      if word_counts[m] >= threshold: continue\n",
        "      else:\n",
        "        cur_causes = mask(cur_causes, m, 'MASK')\n",
        "        print(cur_causes)\n",
        "    df.iloc[i].causes_masked = cur_causes\n",
        "\n",
        "\n",
        "  return df\n",
        "    "
      ],
      "metadata": {
        "id": "6UxerlY3NtdG"
      },
      "execution_count": null,
      "outputs": []
    },
    {
      "cell_type": "code",
      "source": [
        "import nltk\n",
        "import string\n",
        "punct = set(string.punctuation)\n",
        "\n",
        "nltk.download('words')\n",
        "nltk.download('punkt')\n",
        "nltk.download('wordnet')\n",
        "nltk.download('omw-1.4')\n",
        "\n",
        "from nltk.corpus import words\n",
        "from nltk.tokenize import word_tokenize\n",
        "\n",
        "from nltk.stem import SnowballStemmer\n",
        "\n",
        "stemmer = SnowballStemmer('english')\n",
        "english = set(words.words())\n",
        "english_plus = english.copy()\n",
        "for word in english:\n",
        "  english_plus.add(stemmer.stem(word))"
      ],
      "metadata": {
        "colab": {
          "base_uri": "https://localhost:8080/"
        },
        "id": "dz_L8nFMSzOB",
        "outputId": "4ba8c812-a7b9-4971-ac2a-5f2d8b87d017"
      },
      "execution_count": null,
      "outputs": [
        {
          "output_type": "stream",
          "name": "stderr",
          "text": [
            "[nltk_data] Downloading package words to /root/nltk_data...\n",
            "[nltk_data]   Package words is already up-to-date!\n",
            "[nltk_data] Downloading package punkt to /root/nltk_data...\n",
            "[nltk_data]   Package punkt is already up-to-date!\n",
            "[nltk_data] Downloading package wordnet to /root/nltk_data...\n",
            "[nltk_data]   Package wordnet is already up-to-date!\n",
            "[nltk_data] Downloading package omw-1.4 to /root/nltk_data...\n",
            "[nltk_data]   Package omw-1.4 is already up-to-date!\n"
          ]
        }
      ]
    },
    {
      "cell_type": "code",
      "source": [
        "def english_mask(text, corpus, mask=\"MASK\", stemmer = stemmer):\n",
        "  text = text.replace('-', ' ')\n",
        "  tokens = word_tokenize(text)\n",
        "  output_tokens = []\n",
        "  for tok in tokens:\n",
        "    new_tok = tok\n",
        "    if tok not in corpus:\n",
        "      if stemmer.stem(tok) not in corpus:\n",
        "        if tok not in punct:\n",
        "          new_tok = mask\n",
        "    output_tokens.append(new_tok)\n",
        "  new_text = \" \".join(output_tokens)\n",
        "  return new_text"
      ],
      "metadata": {
        "id": "UnVgAaWiTHci"
      },
      "execution_count": null,
      "outputs": []
    },
    {
      "cell_type": "code",
      "source": [
        "df.causes_masked =  df.causes_masked.apply(lambda x: english_mask(x, english_plus))"
      ],
      "metadata": {
        "id": "v-17z3EATeMy"
      },
      "execution_count": null,
      "outputs": []
    },
    {
      "cell_type": "code",
      "source": [
        "df.iloc[0]['causes_masked']"
      ],
      "metadata": {
        "colab": {
          "base_uri": "https://localhost:8080/",
          "height": 173
        },
        "id": "gvNKmKR9J42q",
        "outputId": "95d5a410-aee9-4e7a-d8cd-c0b4dcf7b7b9"
      },
      "execution_count": null,
      "outputs": [
        {
          "output_type": "execute_result",
          "data": {
            "text/plain": [
              "'Mutations in MASK cause DISEASE NAME . This gene provides instructions for making a protein that releases cholesterol and phospholipids from cells . These substances are used to MASK , MASK MASK MASK in MASK prevent the release of cholesterol and phospholipids from cells . As a result , these substances accumulate within cells , causing certain body tissues to enlarge and the tonsils to acquire a yellowish orange color . A buildup of cholesterol can be toxic to cells , leading to impaired cell function or cell death . In addition , the inability to transport cholesterol and phospholipids out of cells results in very low MASK levels , which increases the risk of cardiovascular disease . These combined factors cause the signs and symptoms of DISEASE MASK more about the gene associated with DISEASE MASK'"
            ],
            "application/vnd.google.colaboratory.intrinsic+json": {
              "type": "string"
            }
          },
          "metadata": {},
          "execution_count": 23
        }
      ]
    },
    {
      "cell_type": "code",
      "source": [
        "df.to_csv(\"masked.csv\", index = False)"
      ],
      "metadata": {
        "id": "OY663u7IZz5G"
      },
      "execution_count": null,
      "outputs": []
    }
  ]
}